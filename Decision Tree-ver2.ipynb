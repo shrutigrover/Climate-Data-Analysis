{
 "cells": [
  {
   "cell_type": "code",
   "execution_count": 1,
   "metadata": {},
   "outputs": [],
   "source": [
    "import matplotlib.pyplot as plt"
   ]
  },
  {
   "cell_type": "code",
   "execution_count": 2,
   "metadata": {},
   "outputs": [],
   "source": [
    "import findspark\n",
    "import timeit\n",
    "findspark.init(\"/u/cs451/packages/spark\")\n",
    "from pyspark.sql import SparkSession\n",
    "import random\n",
    "spark = SparkSession.builder.appName(\"Project\").master(\"local[2]\").config('spark.ui.port', random.randrange(4000,5000)).getOrCreate()\n",
    "from pyspark.sql import SQLContext\n",
    "sc = spark.sparkContext\n",
    "sqlcontext = SQLContext(sc)"
   ]
  },
  {
   "cell_type": "code",
   "execution_count": 3,
   "metadata": {},
   "outputs": [],
   "source": [
    "import pandas as pd\n",
    "from pyspark.sql.types import IntegerType, FloatType\n",
    "from pyspark.ml.linalg import Vectors\n",
    "from pyspark.ml.feature import VectorAssembler"
   ]
  },
  {
   "cell_type": "code",
   "execution_count": 4,
   "metadata": {},
   "outputs": [],
   "source": [
    "def performPreProcessing(df):  \n",
    "    #casting year, month and day to integer values\n",
    "    df = df.withColumn(\"year\", df[\"year\"].cast(IntegerType()))\n",
    "    df = df.withColumn(\"mo\", df[\"mo\"].cast(IntegerType()))\n",
    "    df = df.withColumn(\"da\", df[\"da\"].cast(IntegerType()))\n",
    "    df = df.withColumn(\"temp\", df[\"temp\"].cast(FloatType()))\n",
    "    df = df.withColumn(\"slp\", df[\"slp\"].cast(FloatType()))\n",
    "    df = df.withColumn(\"stp\", df[\"stp\"].cast(FloatType()))\n",
    "    df = df.withColumn(\"wdsp\", df[\"wdsp\"].cast(FloatType()))\n",
    "    df = df.withColumn(\"mxpsd\", df[\"mxpsd\"].cast(FloatType()))\n",
    "    df = df.withColumn(\"max\", df[\"max\"].cast(FloatType()))\n",
    "    df = df.withColumn(\"min\", df[\"min\"].cast(FloatType()))\n",
    "    return df"
   ]
  },
  {
   "cell_type": "code",
   "execution_count": 5,
   "metadata": {},
   "outputs": [],
   "source": [
    "def load_datasets_and_set_views():\n",
    "    global stations, gsod_data_2009, gsod_data_2010, gsod_data_2011, gsod_data_2012, gsod_data_2013, gsod_data_2014, gsod_data_2015, gsod_data_2016, gsod_data_2017, gsod_data_2018, gsod_data_2019\n",
    "\n",
    "    gsod_data_2009 = spark.read.format(\"csv\").option(\"header\", \"true\").load(\"/tmp/Project/gsod2009.txt\").cache()\n",
    "#     gsod_data_2009=performPreProcessing(gsod_data_2009)\n",
    "    gsod_data_2009.createOrReplaceTempView(\"gsod_data_2009\")\n",
    "\n",
    "    gsod_data_2010 = spark.read.format(\"csv\").option(\"header\", \"true\").load(\"/tmp/Project/gsod2010.txt\").cache()\n",
    "#     gsod_data_2010 = performPreProcessing(gsod_data_2010)\n",
    "    gsod_data_2010.createOrReplaceTempView(\"gsod_data_2010\")\n",
    "\n",
    "    gsod_data_2011 = spark.read.format(\"csv\").option(\"header\", \"true\").load(\"/tmp/Project/gsod2011.txt\").cache()\n",
    "#     gsod_data_2011 =performPreProcessing(gsod_data_2011)\n",
    "    gsod_data_2011.createOrReplaceTempView(\"gsod_data_2011\")\n",
    "\n",
    "    gsod_data_2012 = spark.read.format(\"csv\").option(\"header\", \"true\").load(\"/tmp/Project/gsod2012.txt\").cache()\n",
    "#     gsod_data_2012 =performPreProcessing(gsod_data_2012)\n",
    "    gsod_data_2012.createOrReplaceTempView(\"gsod_data_2012\")\n",
    "\n",
    "    gsod_data_2013 = spark.read.format(\"csv\").option(\"header\", \"true\").load(\"/tmp/Project/gsod2013.txt\").cache()\n",
    "#     gsod_data_2013 =performPreProcessing(gsod_data_2013)\n",
    "    gsod_data_2013.createOrReplaceTempView(\"gsod_data_2013\")\n",
    "\n",
    "    gsod_data_2014 = spark.read.format(\"csv\").option(\"header\", \"true\").load(\"/tmp/Project/gsod2014.txt\").cache()\n",
    "#     gsod_data_2014 =performPreProcessing(gsod_data_2014)\n",
    "    gsod_data_2014.createOrReplaceTempView(\"gsod_data_2014\")\n",
    "\n",
    "    gsod_data_2015 = spark.read.format(\"csv\").option(\"header\", \"true\").load(\"/tmp/Project/gsod2015.txt\").cache()\n",
    "#     gsod_data_2015 =performPreProcessing(gsod_data_2015)\n",
    "    gsod_data_2015.createOrReplaceTempView(\"gsod_data_2015\")\n",
    "\n",
    "    gsod_data_2016 = spark.read.format(\"csv\").option(\"header\", \"true\").load(\"/tmp/Project/gsod2016.txt\").cache()\n",
    "#     gsod_data_2016 =performPreProcessing(gsod_data_2016)\n",
    "    gsod_data_2016.createOrReplaceTempView(\"gsod_data_2016\")\n",
    "\n",
    "    gsod_data_2017 = spark.read.format(\"csv\").option(\"header\", \"true\").load(\"/tmp/Project/gsod2017.txt\").cache()\n",
    "#     gsod_data_2017 =performPreProcessing(gsod_data_2017)\n",
    "    gsod_data_2017.createOrReplaceTempView(\"gsod_data_2017\")\n",
    "\n",
    "    gsod_data_2018 = spark.read.format(\"csv\").option(\"header\", \"true\").load(\"/tmp/Project/gsod2018.txt\").cache()\n",
    "#     gsod_data_2018 =performPreProcessing(gsod_data_2018)\n",
    "    gsod_data_2018.createOrReplaceTempView(\"gsod_data_2018\")\n",
    "\n",
    "    gsod_data_2019 = spark.read.format(\"csv\").option(\"header\", \"true\").load(\"/tmp/Project/gsod2019.txt\").cache()\n",
    "#     gsod_data_2019 =performPreProcessing(gsod_data_2019)\n",
    "    gsod_data_2019.createOrReplaceTempView(\"gsod_data_2019\")\n",
    "\n",
    "    stations = spark.read.format(\"csv\").option(\"header\", \"true\").load(\"/tmp/Project/stations.txt\").cache()\n",
    "    stations.createOrReplaceTempView(\"stations\")\n",
    "\n",
    "    print(\"done\")"
   ]
  },
  {
   "cell_type": "code",
   "execution_count": 6,
   "metadata": {},
   "outputs": [
    {
     "name": "stdout",
     "output_type": "stream",
     "text": [
      "done\n"
     ]
    }
   ],
   "source": [
    "load_datasets_and_set_views()"
   ]
  },
  {
   "cell_type": "code",
   "execution_count": 7,
   "metadata": {},
   "outputs": [
    {
     "name": "stdout",
     "output_type": "stream",
     "text": [
      "+------+-----+----+---+---+----+----------+------+----------+------+---------+------+---------+-----+-----------+----+----------+-----+-----+----+--------+----+--------+-----+---------+-----+---+------------+----------------+----+-------+--------------------+\n",
      "|   stn| wban|year| mo| da|temp|count_temp|  dewp|count_dewp|   slp|count_slp|   stp|count_stp|visib|count_visib|wdsp|count_wdsp|mxpsd| gust| max|flag_max| min|flag_min| prcp|flag_prcp| sndp|fog|rain_drizzle|snow_ice_pellets|hail|thunder|tornado_funnel_cloud|\n",
      "+------+-----+----+---+---+----+----------+------+----------+------+---------+------+---------+-----+-----------+----+----------+-----+-----+----+--------+----+--------+-----+---------+-----+---+------------+----------------+----+-------+--------------------+\n",
      "|373080|99999|2009| 01| 04|30.8|         4|9999.9|         0|9999.9|        0|9999.9|        0|999.9|          0| 1.5|         4|  5.8|999.9|32.4|       *|28.4|    null|99.99|     null|999.9|  0|           0|               1|   0|      0|                   0|\n",
      "|359250|99999|2009| 01| 22|21.9|         8|  21.0|         8|1032.3|        8|9999.9|        0|999.9|          0| 5.6|         8| 11.7|999.9|25.7|    null| 8.8|    null|99.99|     null| 11.0|  1|           1|               0|   0|      0|                   0|\n",
      "|359250|99999|2009| 12| 16|14.2|         8|  11.9|         8|1025.2|        8|9999.9|        0|999.9|          0| 7.3|         8| 15.5|999.9|21.7|    null| 9.5|    null|99.99|     null|  1.6|  0|           0|               1|   0|      0|                   0|\n",
      "|284180|99999|2009| 02| 12|22.6|         8|  16.3|         8|1023.7|        7|9999.9|        0|999.9|          0| 3.3|         7|  5.8|999.9|26.4|    null|15.6|    null|99.99|     null| 16.5|  0|           0|               1|   0|      0|                   0|\n",
      "|364280|99999|2009| 11| 16|14.2|         6|  10.3|         6|9999.9|        0|9999.9|        0|999.9|          0| 0.6|         6|  3.9|999.9|21.9|    null| 5.0|    null|99.99|     null|999.9|  0|           0|               1|   0|      0|                   0|\n",
      "|284180|99999|2009| 02| 05|15.9|         7|  11.9|         7|1005.2|        6|9999.9|        0|999.9|          0| 3.6|         7|  5.8|999.9|19.6|    null|11.8|    null|99.99|     null| 15.4|  0|           0|               1|   0|      0|                   0|\n",
      "|011440|99999|2009| 10| 09|38.0|        23|  31.4|        23|9999.9|        0|9999.9|        0|999.9|          0|22.5|        23| 31.1|999.9|40.6|    null|35.2|    null|99.99|     null|999.9|  0|           1|               1|   0|      0|                   0|\n",
      "|011440|99999|2009| 02| 24|29.9|        24|  25.2|        24|9999.9|        0|9999.9|        0|999.9|          0|27.5|        24| 36.9|999.9|32.9|       *|27.9|    null|99.99|     null|999.9|  0|           0|               1|   0|      0|                   0|\n",
      "|011440|99999|2009| 06| 17|46.6|        24|  37.6|        24|9999.9|        0|9999.9|        0|999.9|          0| 9.7|        24| 15.5|999.9|50.5|    null|42.1|    null|99.99|     null|999.9|  0|           1|               0|   0|      0|                   0|\n",
      "|011440|99999|2009| 08| 20|56.0|        24|  47.7|        24|9999.9|        0|9999.9|        0|999.9|          0|16.0|        24| 21.4|999.9|58.3|    null|50.4|    null|99.99|     null|999.9|  0|           1|               0|   0|      0|                   0|\n",
      "|011440|99999|2009| 09| 04|52.9|        24|  49.3|        24|9999.9|        0|9999.9|        0|999.9|          0|13.4|        24| 19.4|999.9|54.9|    null|50.2|    null|99.99|     null|999.9|  0|           1|               0|   0|      0|                   0|\n",
      "|011440|99999|2009| 12| 11|41.5|        24|  36.5|        24|9999.9|        0|9999.9|        0|999.9|          0| 9.6|        24| 13.6|999.9|44.4|    null|37.2|    null|99.99|     null|999.9|  0|           1|               0|   0|      0|                   0|\n",
      "|719680|99999|2009| 08| 19|40.2|        24|9999.9|         0|1014.4|       12|9999.9|        0|999.9|          0| 8.5|        24| 22.0| 28.9|50.0|    null|36.9|    null|99.99|     null|999.9|  0|           1|               0|   0|      0|                   0|\n",
      "|062030|99999|2009| 12| 22|41.2|        24|  33.5|        24|9999.9|        0|9999.9|        0|999.9|          0|19.3|        24| 25.1| 27.2|43.2|    null|35.4|    null|99.99|     null|999.9|  0|           1|               0|   0|      0|                   0|\n",
      "|710970|99999|2009| 07| 13|33.8|        24|9999.9|         0|1010.7|       16|9999.9|        0|999.9|          0|19.3|        24| 28.9|999.9|45.0|    null|31.8|    null|99.99|     null|999.9|  0|           1|               1|   0|      0|                   0|\n",
      "|643900|99999|2009| 04| 15|76.4|         4|  68.1|         4|9999.9|        0|9999.9|        0|999.9|          0|12.5|         4| 20.0|999.9|82.4|       *|68.7|    null|99.99|     null|999.9|  0|           1|               0|   0|      1|                   0|\n",
      "|359250|99999|2009| 03| 17|28.2|         6|  27.4|         5|1018.7|        6|9999.9|        0|999.9|          0| 9.7|         6| 11.7|999.9|31.8|    null|24.1|    null|99.99|     null|999.9|  0|           0|               1|   0|      0|                   0|\n",
      "|364280|99999|2009| 10| 20|47.5|         6|  45.0|         6|9999.9|        0|9999.9|        0|999.9|          0| 0.6|         6|  1.9|999.9|52.3|    null|44.6|    null|99.99|     null|999.9|  0|           1|               0|   0|      0|                   0|\n",
      "|643900|99999|2009| 04| 27|76.5|         6|  68.4|         5|9999.9|        0|9999.9|        0|999.9|          0| 8.3|         6| 14.0|999.9|78.8|       *|70.9|    null|99.99|     null|999.9|  0|           1|               0|   0|      0|                   0|\n",
      "|364280|99999|2009| 12| 11|-0.2|         7|  -4.8|         7|9999.9|        0|9999.9|        0|999.9|          0| 1.1|         7|  3.9|999.9| 4.3|    null|-4.7|    null|99.99|     null| 10.2|  0|           1|               1|   0|      0|                   0|\n",
      "+------+-----+----+---+---+----+----------+------+----------+------+---------+------+---------+-----+-----------+----+----------+-----+-----+----+--------+----+--------+-----+---------+-----+---+------------+----------------+----+-------+--------------------+\n",
      "only showing top 20 rows\n",
      "\n"
     ]
    }
   ],
   "source": [
    "gsod_data_2009.show()"
   ]
  },
  {
   "cell_type": "code",
   "execution_count": 8,
   "metadata": {},
   "outputs": [
    {
     "data": {
      "text/plain": [
       "[('stn', 'string'),\n",
       " ('wban', 'string'),\n",
       " ('year', 'string'),\n",
       " ('mo', 'string'),\n",
       " ('da', 'string'),\n",
       " ('temp', 'string'),\n",
       " ('count_temp', 'string'),\n",
       " ('dewp', 'string'),\n",
       " ('count_dewp', 'string'),\n",
       " ('slp', 'string'),\n",
       " ('count_slp', 'string'),\n",
       " ('stp', 'string'),\n",
       " ('count_stp', 'string'),\n",
       " ('visib', 'string'),\n",
       " ('count_visib', 'string'),\n",
       " ('wdsp', 'string'),\n",
       " ('count_wdsp', 'string'),\n",
       " ('mxpsd', 'string'),\n",
       " ('gust', 'string'),\n",
       " ('max', 'string'),\n",
       " ('flag_max', 'string'),\n",
       " ('min', 'string'),\n",
       " ('flag_min', 'string'),\n",
       " ('prcp', 'string'),\n",
       " ('flag_prcp', 'string'),\n",
       " ('sndp', 'string'),\n",
       " ('fog', 'string'),\n",
       " ('rain_drizzle', 'string'),\n",
       " ('snow_ice_pellets', 'string'),\n",
       " ('hail', 'string'),\n",
       " ('thunder', 'string'),\n",
       " ('tornado_funnel_cloud', 'string')]"
      ]
     },
     "execution_count": 8,
     "metadata": {},
     "output_type": "execute_result"
    }
   ],
   "source": [
    "gsod_data_2009.dtypes"
   ]
  },
  {
   "cell_type": "code",
   "execution_count": 51,
   "metadata": {},
   "outputs": [],
   "source": [
    "month=\"02\"\n",
    "country=\"US\""
   ]
  },
  {
   "cell_type": "code",
   "execution_count": 52,
   "metadata": {},
   "outputs": [],
   "source": [
    "query_2009=spark.sql(\"SELECT s.country, g.stn, g.year, g.mo, g.da, g.temp, g.slp, g.stp, g.wdsp, g.mxpsd, g.max, g.min, g.rain_drizzle FROM gsod_data_2009 g, stations s where s.usaf=g.stn AND g.mo={0} AND s.country='{1}' AND g.slp!=9999.9 AND g.stp!=9999.9 AND g.wdsp!=999.9 AND g.mxpsd!=999.9 AND g.max!=9999.9 AND g.min!=9999.9\".format(month,country))\n",
    "\n",
    "query_2010=spark.sql(\"SELECT s.country, g.stn, g.year, g.mo, g.da, g.temp, g.slp, g.stp, g.wdsp, g.mxpsd, g.max, g.min, g.rain_drizzle FROM gsod_data_2010 g, stations s where s.usaf=g.stn AND g.mo={0} AND s.country='{1}' AND g.slp!=9999.9 AND g.stp!=9999.9 AND g.wdsp!=999.9 AND g.mxpsd!=999.9 AND g.max!=9999.9 AND g.min!=9999.9\".format(month,country))\n",
    "\n",
    "query_2011=spark.sql(\"SELECT s.country, g.stn, g.year, g.mo, g.da, g.temp, g.slp, g.stp, g.wdsp, g.mxpsd, g.max, g.min, g.rain_drizzle FROM gsod_data_2011 g, stations s where s.usaf=g.stn AND g.mo={0} AND s.country='{1}' AND g.slp!=9999.9 AND g.stp!=9999.9 AND g.wdsp!=999.9 AND g.mxpsd!=999.9 AND g.max!=9999.9 AND g.min!=9999.9\".format(month,country))\n",
    "\n",
    "query_2012=spark.sql(\"SELECT s.country, g.stn, g.year, g.mo, g.da, g.temp, g.slp, g.stp, g.wdsp, g.mxpsd, g.max, g.min, g.rain_drizzle FROM gsod_data_2012 g, stations s where s.usaf=g.stn AND g.mo={0} AND s.country='{1}' AND g.slp!=9999.9 AND g.stp!=9999.9 AND g.wdsp!=999.9 AND g.mxpsd!=999.9 AND g.max!=9999.9 AND g.min!=9999.9\".format(month,country))\n",
    "\n",
    "query_2013=spark.sql(\"SELECT s.country, g.stn, g.year, g.mo, g.da, g.temp, g.slp, g.stp, g.wdsp, g.mxpsd, g.max, g.min, g.rain_drizzle FROM gsod_data_2013 g, stations s where s.usaf=g.stn AND g.mo={0} AND s.country='{1}' AND g.slp!=9999.9 AND g.stp!=9999.9 AND g.wdsp!=999.9 AND g.mxpsd!=999.9 AND g.max!=9999.9 AND g.min!=9999.9\".format(month,country))\n",
    "\n",
    "query_2014=spark.sql(\"SELECT s.country, g.stn, g.year, g.mo, g.da, g.temp, g.slp, g.stp, g.wdsp, g.mxpsd, g.max, g.min, g.rain_drizzle FROM gsod_data_2014 g, stations s where s.usaf=g.stn AND g.mo={0} AND s.country='{1}' AND g.slp!=9999.9 AND g.stp!=9999.9 AND g.wdsp!=999.9 AND g.mxpsd!=999.9 AND g.max!=9999.9 AND g.min!=9999.9\".format(month,country))\n",
    "\n",
    "query_2015=spark.sql(\"SELECT s.country, g.stn, g.year, g.mo, g.da, g.temp, g.slp, g.stp, g.wdsp, g.mxpsd, g.max, g.min, g.rain_drizzle FROM gsod_data_2015 g, stations s where s.usaf=g.stn AND g.mo={0} AND s.country='{1}' AND g.slp!=9999.9 AND g.stp!=9999.9 AND g.wdsp!=999.9 AND g.mxpsd!=999.9 AND g.max!=9999.9 AND g.min!=9999.9\".format(month,country))\n",
    "\n",
    "query_2016=spark.sql(\"SELECT s.country, g.stn, g.year, g.mo, g.da, g.temp, g.slp, g.stp, g.wdsp, g.mxpsd, g.max, g.min, g.rain_drizzle FROM gsod_data_2016 g, stations s where s.usaf=g.stn AND g.mo={0} AND s.country='{1}' AND g.slp!=9999.9 AND g.stp!=9999.9 AND g.wdsp!=999.9 AND g.mxpsd!=999.9 AND g.max!=9999.9 AND g.min!=9999.9\".format(month,country))\n",
    "\n",
    "query_2017=spark.sql(\"SELECT s.country, g.stn, g.year, g.mo, g.da, g.temp, g.slp, g.stp, g.wdsp, g.mxpsd, g.max, g.min, g.rain_drizzle FROM gsod_data_2017 g, stations s where s.usaf=g.stn AND g.mo={0} AND s.country='{1}' AND g.slp!=9999.9 AND g.stp!=9999.9 AND g.wdsp!=999.9 AND g.mxpsd!=999.9 AND g.max!=9999.9 AND g.min!=9999.9\".format(month,country))\n",
    "\n",
    "query_2018=spark.sql(\"SELECT s.country, g.stn, g.year, g.mo, g.da, g.temp, g.slp, g.stp, g.wdsp, g.mxpsd, g.max, g.min, g.rain_drizzle FROM gsod_data_2018 g, stations s where s.usaf=g.stn AND g.mo={0} AND s.country='{1}' AND g.slp!=9999.9 AND g.stp!=9999.9 AND g.wdsp!=999.9 AND g.mxpsd!=999.9 AND g.max!=9999.9 AND g.min!=9999.9\".format(month,country))\n",
    "\n",
    "query_2019=spark.sql(\"SELECT s.country, g.stn, g.year, g.mo, g.da, g.temp, g.slp, g.stp, g.wdsp, g.mxpsd, g.max, g.min, g.rain_drizzle FROM gsod_data_2019 g, stations s where s.usaf=g.stn AND g.mo={0} AND s.country='{1}' AND g.slp!=9999.9 AND g.stp!=9999.9 AND g.wdsp!=999.9 AND g.mxpsd!=999.9 AND g.max!=9999.9 AND g.min!=9999.9\".format(month,country))"
   ]
  },
  {
   "cell_type": "code",
   "execution_count": 53,
   "metadata": {},
   "outputs": [],
   "source": [
    "query_2009 =performPreProcessing(query_2009)\n",
    "query_2010 =performPreProcessing(query_2010)\n",
    "query_2011 =performPreProcessing(query_2011)\n",
    "query_2012 =performPreProcessing(query_2012)\n",
    "query_2013 =performPreProcessing(query_2013)\n",
    "query_2014 =performPreProcessing(query_2014)\n",
    "query_2015 =performPreProcessing(query_2015)\n",
    "query_2016 =performPreProcessing(query_2016)\n",
    "query_2017 =performPreProcessing(query_2017)\n",
    "query_2018 =performPreProcessing(query_2018)"
   ]
  },
  {
   "cell_type": "code",
   "execution_count": 54,
   "metadata": {},
   "outputs": [
    {
     "data": {
      "text/plain": [
       "[('country', 'string'),\n",
       " ('stn', 'string'),\n",
       " ('year', 'int'),\n",
       " ('mo', 'int'),\n",
       " ('da', 'int'),\n",
       " ('temp', 'float'),\n",
       " ('slp', 'float'),\n",
       " ('stp', 'float'),\n",
       " ('wdsp', 'float'),\n",
       " ('mxpsd', 'float'),\n",
       " ('max', 'float'),\n",
       " ('min', 'float'),\n",
       " ('rain_drizzle', 'string')]"
      ]
     },
     "execution_count": 54,
     "metadata": {},
     "output_type": "execute_result"
    }
   ],
   "source": [
    "query_2009.dtypes"
   ]
  },
  {
   "cell_type": "code",
   "execution_count": 64,
   "metadata": {},
   "outputs": [],
   "source": [
    "df_all=query_2009.union(query_2010)\\\n",
    "                .union(query_2011)\\\n",
    "                .union(query_2012)\\\n",
    "                .union(query_2013)\\\n",
    "                .union(query_2014)\\\n",
    "                .union(query_2015)\\\n",
    "                .union(query_2016)\\\n",
    "                .union(query_2017)\\\n",
    "                .union(query_2018)\\\n",
    "                .union(query_2019)"
   ]
  },
  {
   "cell_type": "code",
   "execution_count": 65,
   "metadata": {},
   "outputs": [],
   "source": [
    "##Monthly Average Temperature\n",
    "df_min=df_all.groupBy('stn').agg({'temp':'min'})\n",
    "df_max=df_all.groupBy('stn').agg({'temp':'max'})\n",
    "df_avg=df_all.groupBy('stn').agg({'temp':'avg'})\n",
    "# df_all.show()"
   ]
  },
  {
   "cell_type": "code",
   "execution_count": 66,
   "metadata": {},
   "outputs": [
    {
     "name": "stdout",
     "output_type": "stream",
     "text": [
      "[]\n"
     ]
    },
    {
     "data": {
      "text/html": [
       "<div>\n",
       "<style scoped>\n",
       "    .dataframe tbody tr th:only-of-type {\n",
       "        vertical-align: middle;\n",
       "    }\n",
       "\n",
       "    .dataframe tbody tr th {\n",
       "        vertical-align: top;\n",
       "    }\n",
       "\n",
       "    .dataframe thead th {\n",
       "        text-align: right;\n",
       "    }\n",
       "</style>\n",
       "<table border=\"1\" class=\"dataframe\">\n",
       "  <thead>\n",
       "    <tr style=\"text-align: right;\">\n",
       "      <th></th>\n",
       "      <th>0</th>\n",
       "      <th>1</th>\n",
       "      <th>2</th>\n",
       "      <th>3</th>\n",
       "      <th>4</th>\n",
       "    </tr>\n",
       "  </thead>\n",
       "  <tbody>\n",
       "    <tr>\n",
       "      <th>summary</th>\n",
       "      <td>count</td>\n",
       "      <td>mean</td>\n",
       "      <td>stddev</td>\n",
       "      <td>min</td>\n",
       "      <td>max</td>\n",
       "    </tr>\n",
       "  </tbody>\n",
       "</table>\n",
       "</div>"
      ],
      "text/plain": [
       "             0     1       2    3    4\n",
       "summary  count  mean  stddev  min  max"
      ]
     },
     "execution_count": 66,
     "metadata": {},
     "output_type": "execute_result"
    }
   ],
   "source": [
    "numeric_features = [t[0] for t in df_all.dtypes if (t[1] == 'float')]\n",
    "print(numeric_features)\n",
    "df_all.select(numeric_features).describe().toPandas().transpose()\n"
   ]
  },
  {
   "cell_type": "code",
   "execution_count": 15,
   "metadata": {},
   "outputs": [
    {
     "data": {
      "image/png": "[encoded data removed]",
      "text/plain": [
       "<Figure size 576x576 with 49 Axes>"
      ]
     },
     "metadata": {
      "needs_background": "light"
     },
     "output_type": "display_data"
    }
   ],
   "source": [
    "import pandas as pd\n",
    "from pandas.plotting import scatter_matrix\n",
    "numeric_data = df_all.select(numeric_features).toPandas()\n",
    "axs = scatter_matrix(numeric_data, figsize=(8, 8))\n",
    "n = len(numeric_data.columns)\n",
    "for i in range(n):\n",
    "    v = axs[i, 0]\n",
    "    v.yaxis.label.set_rotation(0)\n",
    "    v.yaxis.label.set_ha('right')\n",
    "    v.set_yticks(())\n",
    "    h = axs[n-1, i]\n",
    "    h.xaxis.label.set_rotation(90)\n",
    "    h.set_xticks(())"
   ]
  },
  {
   "cell_type": "markdown",
   "metadata": {},
   "source": [
    "### Feature Selection for Classification"
   ]
  },
  {
   "cell_type": "code",
   "execution_count": 67,
   "metadata": {},
   "outputs": [],
   "source": [
    "from pyspark.sql.functions import col\n",
    "feat_cols=[ 'year', 'mo', 'da', 'temp', 'slp', 'stp', 'wdsp', 'mxpsd']\n",
    "# dataset=sqlcontext.sql(\"SELECT g.year, g.mo, g.da, g.temp, g.slp, g.stp, g.wdsp, g.mxpsd, g.max, g.min, g.rain_drizzle FROM gsod_data_2018 g\")\n",
    "dataset=df_all\n",
    "dataset=dataset.select(*(col(c).cast(\"double\").alias(c) for c in dataset.columns))"
   ]
  },
  {
   "cell_type": "code",
   "execution_count": 68,
   "metadata": {},
   "outputs": [],
   "source": [
    "vec_assembler=VectorAssembler(inputCols= feat_cols,outputCol='features')\n",
    "final_data=vec_assembler.transform(dataset)\n",
    "final_data=final_data.select(['features','rain_drizzle'])\n",
    "training_data,test_data=final_data.randomSplit([0.75,0.25])"
   ]
  },
  {
   "cell_type": "code",
   "execution_count": 69,
   "metadata": {},
   "outputs": [
    {
     "name": "stdout",
     "output_type": "stream",
     "text": [
      "('Number of Training Instances', 2612197)\n",
      "('Number of Testing Instances', 871057)\n"
     ]
    }
   ],
   "source": [
    "print(\"Number of Training Instances\",training_data.filter(training_data.rain_drizzle==0).count())\n",
    "print(\"Number of Testing Instances\",test_data.filter(test_data.rain_drizzle==0).count())"
   ]
  },
  {
   "cell_type": "code",
   "execution_count": 70,
   "metadata": {},
   "outputs": [
    {
     "name": "stdout",
     "output_type": "stream",
     "text": [
      "('Number of Training Instances', 1144698)\n",
      "('Number of Testing Instances', 380588)\n"
     ]
    }
   ],
   "source": [
    "print(\"Number of Training Instances\",training_data.filter(training_data.rain_drizzle==1).count())\n",
    "print(\"Number of Testing Instances\",test_data.filter(test_data.rain_drizzle==1).count())"
   ]
  },
  {
   "cell_type": "code",
   "execution_count": null,
   "metadata": {},
   "outputs": [],
   "source": []
  },
  {
   "cell_type": "markdown",
   "metadata": {},
   "source": [
    "### Feature Selection for Regression"
   ]
  },
  {
   "cell_type": "code",
   "execution_count": 17,
   "metadata": {},
   "outputs": [],
   "source": [
    "from pyspark.sql.functions import col\n",
    "feat_cols_reg=[ 'year', 'mo', 'da', 'slp', 'stp', 'wdsp', 'mxpsd']\n",
    "# dataset=sqlcontext.sql(\"SELECT g.year, g.mo, g.da, g.temp, g.slp, g.stp, g.wdsp, g.mxpsd, g.max, g.min, g.rain_drizzle FROM gsod_data_2018 g\")\n",
    "dataset_reg=df_all\n",
    "\n",
    "dataset_reg=dataset_reg.select(*(col(c).cast(\"double\").alias(c) for c in dataset_reg.columns))"
   ]
  },
  {
   "cell_type": "code",
   "execution_count": 18,
   "metadata": {},
   "outputs": [],
   "source": [
    "vec_assembler_reg=VectorAssembler(inputCols= feat_cols,outputCol='features')\n",
    "final_data_reg=vec_assembler_reg.transform(dataset_reg)\n",
    "final_data_reg=final_data_reg.select(['features','temp'])\n",
    "training_data_reg,test_data_reg=final_data_reg.randomSplit([0.75,0.25])"
   ]
  },
  {
   "cell_type": "markdown",
   "metadata": {},
   "source": [
    "### Linear Regression"
   ]
  },
  {
   "cell_type": "code",
   "execution_count": 20,
   "metadata": {},
   "outputs": [
    {
     "name": "stdout",
     "output_type": "stream",
     "text": [
      "Coefficients: [0.0,0.0,0.0,0.4242806979280192,0.0,0.0,0.0,0.0,0.2319636698644939,0.3288597998695074]\n",
      "Intercept: 0.980571992149\n",
      "numIterations: 11\n",
      "objectiveHistory: [0.5, 0.3384313292375492, 0.014044855327804523, 0.012745774055741071, 0.011740114110577453, 0.011668312784180089, 0.011653565681038706, 0.011530110451333085, 0.011499121944243232, 0.011495483571059546, 0.011436010283202343]\n",
      "+--------------------+\n",
      "|           residuals|\n",
      "+--------------------+\n",
      "|-0.02677222621852...|\n",
      "|-0.02677222621852...|\n",
      "|-0.35011172384006795|\n",
      "|-0.35011172384006795|\n",
      "|   -1.21308953285671|\n",
      "|   -1.21308953285671|\n",
      "|-0.08701712152488916|\n",
      "|-0.08701712152488916|\n",
      "|  1.8908034884505325|\n",
      "| -0.3043145384817656|\n",
      "| -0.3043145384817656|\n",
      "| -1.0639221624583026|\n",
      "|  0.3013116129934321|\n",
      "|  0.3013116129934321|\n",
      "|-0.06154434678029297|\n",
      "| -0.8909703545716869|\n",
      "| -0.8909703545716869|\n",
      "|  2.6945468805796366|\n",
      "|-0.44209709126652186|\n",
      "|  0.8432061632125567|\n",
      "+--------------------+\n",
      "only showing top 20 rows\n",
      "\n",
      "RMSE: 0.964785\n",
      "r2: 0.998316\n"
     ]
    }
   ],
   "source": [
    "from pyspark.ml.regression import LinearRegression\n",
    "\n",
    "\n",
    "lr = LinearRegression(maxIter=10, regParam=0.3, elasticNetParam=0.8,labelCol='temp')\n",
    "\n",
    "# Fit the model\n",
    "lrModel = lr.fit(training_data_reg)\n",
    "\n",
    "# Print the coefficients and intercept for linear regression\n",
    "print(\"Coefficients: %s\" % str(lrModel.coefficients))\n",
    "print(\"Intercept: %s\" % str(lrModel.intercept))\n",
    "\n",
    "# Summarize the model over the training set and print out some metrics\n",
    "trainingSummary = lrModel.summary\n",
    "print(\"numIterations: %d\" % trainingSummary.totalIterations)\n",
    "print(\"objectiveHistory: %s\" % str(trainingSummary.objectiveHistory))\n",
    "trainingSummary.residuals.show()\n",
    "print(\"RMSE: %f\" % trainingSummary.rootMeanSquaredError)\n",
    "print(\"r2: %f\" % trainingSummary.r2)"
   ]
  },
  {
   "cell_type": "code",
   "execution_count": null,
   "metadata": {},
   "outputs": [],
   "source": []
  },
  {
   "cell_type": "code",
   "execution_count": null,
   "metadata": {},
   "outputs": [],
   "source": []
  },
  {
   "cell_type": "code",
   "execution_count": null,
   "metadata": {},
   "outputs": [],
   "source": []
  },
  {
   "cell_type": "markdown",
   "metadata": {},
   "source": [
    "## Multilayer Perceptron Classifier"
   ]
  },
  {
   "cell_type": "code",
   "execution_count": 43,
   "metadata": {},
   "outputs": [],
   "source": [
    "from pyspark.ml.classification import MultilayerPerceptronClassifier\n",
    "from pyspark.ml.evaluation import MulticlassClassificationEvaluator"
   ]
  },
  {
   "cell_type": "code",
   "execution_count": 44,
   "metadata": {},
   "outputs": [],
   "source": [
    "# specify layers for the neural network:\n",
    "# input layer of size 10 (features), two intermediate of size 5 and 4\n",
    "# and output of size 2 (classes)\n",
    "layers = [10, 100, 100, 50, 50, 10, 2]\n"
   ]
  },
  {
   "cell_type": "code",
   "execution_count": 45,
   "metadata": {},
   "outputs": [
    {
     "ename": "Py4JJavaError",
     "evalue": "An error occurred while calling o2641.fit.\n: org.apache.spark.SparkException: Job aborted due to stage failure: Task 1 in stage 712.0 failed 1 times, most recent failure: Lost task 1.0 in stage 712.0 (TID 3833, localhost, executor driver): java.lang.ArrayIndexOutOfBoundsException\n\tat java.lang.System.arraycopy(Native Method)\n\tat org.apache.spark.ml.ann.DataStacker$$anonfun$5$$anonfun$apply$3$$anonfun$apply$4.apply(Layer.scala:665)\n\tat org.apache.spark.ml.ann.DataStacker$$anonfun$5$$anonfun$apply$3$$anonfun$apply$4.apply(Layer.scala:664)\n\tat scala.collection.immutable.List.foreach(List.scala:381)\n\tat org.apache.spark.ml.ann.DataStacker$$anonfun$5$$anonfun$apply$3.apply(Layer.scala:664)\n\tat org.apache.spark.ml.ann.DataStacker$$anonfun$5$$anonfun$apply$3.apply(Layer.scala:660)\n\tat scala.collection.Iterator$$anon$11.next(Iterator.scala:409)\n\tat scala.collection.Iterator$$anon$11.next(Iterator.scala:409)\n\tat org.apache.spark.storage.memory.MemoryStore.putIteratorAsValues(MemoryStore.scala:217)\n\tat org.apache.spark.storage.BlockManager$$anonfun$doPutIterator$1.apply(BlockManager.scala:1092)\n\tat org.apache.spark.storage.BlockManager$$anonfun$doPutIterator$1.apply(BlockManager.scala:1083)\n\tat org.apache.spark.storage.BlockManager.doPut(BlockManager.scala:1018)\n\tat org.apache.spark.storage.BlockManager.doPutIterator(BlockManager.scala:1083)\n\tat org.apache.spark.storage.BlockManager.getOrElseUpdate(BlockManager.scala:809)\n\tat org.apache.spark.rdd.RDD.getOrCompute(RDD.scala:335)\n\tat org.apache.spark.rdd.RDD.iterator(RDD.scala:286)\n\tat org.apache.spark.scheduler.ResultTask.runTask(ResultTask.scala:87)\n\tat org.apache.spark.scheduler.Task.run(Task.scala:109)\n\tat org.apache.spark.executor.Executor$TaskRunner.run(Executor.scala:345)\n\tat java.util.concurrent.ThreadPoolExecutor.runWorker(ThreadPoolExecutor.java:1149)\n\tat java.util.concurrent.ThreadPoolExecutor$Worker.run(ThreadPoolExecutor.java:624)\n\tat java.lang.Thread.run(Thread.java:748)\n\nDriver stacktrace:\n\tat org.apache.spark.scheduler.DAGScheduler.org$apache$spark$scheduler$DAGScheduler$$failJobAndIndependentStages(DAGScheduler.scala:1602)\n\tat org.apache.spark.scheduler.DAGScheduler$$anonfun$abortStage$1.apply(DAGScheduler.scala:1590)\n\tat org.apache.spark.scheduler.DAGScheduler$$anonfun$abortStage$1.apply(DAGScheduler.scala:1589)\n\tat scala.collection.mutable.ResizableArray$class.foreach(ResizableArray.scala:59)\n\tat scala.collection.mutable.ArrayBuffer.foreach(ArrayBuffer.scala:48)\n\tat org.apache.spark.scheduler.DAGScheduler.abortStage(DAGScheduler.scala:1589)\n\tat org.apache.spark.scheduler.DAGScheduler$$anonfun$handleTaskSetFailed$1.apply(DAGScheduler.scala:831)\n\tat org.apache.spark.scheduler.DAGScheduler$$anonfun$handleTaskSetFailed$1.apply(DAGScheduler.scala:831)\n\tat scala.Option.foreach(Option.scala:257)\n\tat org.apache.spark.scheduler.DAGScheduler.handleTaskSetFailed(DAGScheduler.scala:831)\n\tat org.apache.spark.scheduler.DAGSchedulerEventProcessLoop.doOnReceive(DAGScheduler.scala:1823)\n\tat org.apache.spark.scheduler.DAGSchedulerEventProcessLoop.onReceive(DAGScheduler.scala:1772)\n\tat org.apache.spark.scheduler.DAGSchedulerEventProcessLoop.onReceive(DAGScheduler.scala:1761)\n\tat org.apache.spark.util.EventLoop$$anon$1.run(EventLoop.scala:48)\n\tat org.apache.spark.scheduler.DAGScheduler.runJob(DAGScheduler.scala:642)\n\tat org.apache.spark.SparkContext.runJob(SparkContext.scala:2034)\n\tat org.apache.spark.SparkContext.runJob(SparkContext.scala:2055)\n\tat org.apache.spark.SparkContext.runJob(SparkContext.scala:2074)\n\tat org.apache.spark.SparkContext.runJob(SparkContext.scala:2099)\n\tat org.apache.spark.rdd.RDD.count(RDD.scala:1162)\n\tat org.apache.spark.mllib.optimization.LBFGS$.runLBFGS(LBFGS.scala:195)\n\tat org.apache.spark.mllib.optimization.LBFGS.optimize(LBFGS.scala:142)\n\tat org.apache.spark.ml.ann.FeedForwardTrainer.train(Layer.scala:854)\n\tat org.apache.spark.ml.classification.MultilayerPerceptronClassifier.train(MultilayerPerceptronClassifier.scala:266)\n\tat org.apache.spark.ml.classification.MultilayerPerceptronClassifier.train(MultilayerPerceptronClassifier.scala:143)\n\tat org.apache.spark.ml.Predictor.fit(Predictor.scala:118)\n\tat sun.reflect.NativeMethodAccessorImpl.invoke0(Native Method)\n\tat sun.reflect.NativeMethodAccessorImpl.invoke(NativeMethodAccessorImpl.java:62)\n\tat sun.reflect.DelegatingMethodAccessorImpl.invoke(DelegatingMethodAccessorImpl.java:43)\n\tat java.lang.reflect.Method.invoke(Method.java:498)\n\tat py4j.reflection.MethodInvoker.invoke(MethodInvoker.java:244)\n\tat py4j.reflection.ReflectionEngine.invoke(ReflectionEngine.java:357)\n\tat py4j.Gateway.invoke(Gateway.java:282)\n\tat py4j.commands.AbstractCommand.invokeMethod(AbstractCommand.java:132)\n\tat py4j.commands.CallCommand.execute(CallCommand.java:79)\n\tat py4j.GatewayConnection.run(GatewayConnection.java:238)\n\tat java.lang.Thread.run(Thread.java:748)\nCaused by: java.lang.ArrayIndexOutOfBoundsException\n\tat java.lang.System.arraycopy(Native Method)\n\tat org.apache.spark.ml.ann.DataStacker$$anonfun$5$$anonfun$apply$3$$anonfun$apply$4.apply(Layer.scala:665)\n\tat org.apache.spark.ml.ann.DataStacker$$anonfun$5$$anonfun$apply$3$$anonfun$apply$4.apply(Layer.scala:664)\n\tat scala.collection.immutable.List.foreach(List.scala:381)\n\tat org.apache.spark.ml.ann.DataStacker$$anonfun$5$$anonfun$apply$3.apply(Layer.scala:664)\n\tat org.apache.spark.ml.ann.DataStacker$$anonfun$5$$anonfun$apply$3.apply(Layer.scala:660)\n\tat scala.collection.Iterator$$anon$11.next(Iterator.scala:409)\n\tat scala.collection.Iterator$$anon$11.next(Iterator.scala:409)\n\tat org.apache.spark.storage.memory.MemoryStore.putIteratorAsValues(MemoryStore.scala:217)\n\tat org.apache.spark.storage.BlockManager$$anonfun$doPutIterator$1.apply(BlockManager.scala:1092)\n\tat org.apache.spark.storage.BlockManager$$anonfun$doPutIterator$1.apply(BlockManager.scala:1083)\n\tat org.apache.spark.storage.BlockManager.doPut(BlockManager.scala:1018)\n\tat org.apache.spark.storage.BlockManager.doPutIterator(BlockManager.scala:1083)\n\tat org.apache.spark.storage.BlockManager.getOrElseUpdate(BlockManager.scala:809)\n\tat org.apache.spark.rdd.RDD.getOrCompute(RDD.scala:335)\n\tat org.apache.spark.rdd.RDD.iterator(RDD.scala:286)\n\tat org.apache.spark.scheduler.ResultTask.runTask(ResultTask.scala:87)\n\tat org.apache.spark.scheduler.Task.run(Task.scala:109)\n\tat org.apache.spark.executor.Executor$TaskRunner.run(Executor.scala:345)\n\tat java.util.concurrent.ThreadPoolExecutor.runWorker(ThreadPoolExecutor.java:1149)\n\tat java.util.concurrent.ThreadPoolExecutor$Worker.run(ThreadPoolExecutor.java:624)\n\t... 1 more\n",
     "output_type": "error",
     "traceback": [
      "\u001b[0;31m---------------------------------------------------------------------------\u001b[0m",
      "\u001b[0;31mPy4JJavaError\u001b[0m                             Traceback (most recent call last)",
      "\u001b[0;32m<ipython-input-45-e252009a093c>\u001b[0m in \u001b[0;36m<module>\u001b[0;34m()\u001b[0m\n\u001b[1;32m      3\u001b[0m \u001b[0;34m\u001b[0m\u001b[0m\n\u001b[1;32m      4\u001b[0m \u001b[0;31m# train the model\u001b[0m\u001b[0;34m\u001b[0m\u001b[0;34m\u001b[0m\u001b[0m\n\u001b[0;32m----> 5\u001b[0;31m \u001b[0mmodel\u001b[0m \u001b[0;34m=\u001b[0m \u001b[0mtrainer\u001b[0m\u001b[0;34m.\u001b[0m\u001b[0mfit\u001b[0m\u001b[0;34m(\u001b[0m\u001b[0mtraining_data\u001b[0m\u001b[0;34m)\u001b[0m\u001b[0;34m\u001b[0m\u001b[0m\n\u001b[0m",
      "\u001b[0;32m/u/cs451/packages/spark/python/pyspark/ml/base.py\u001b[0m in \u001b[0;36mfit\u001b[0;34m(self, dataset, params)\u001b[0m\n\u001b[1;32m    130\u001b[0m                 \u001b[0;32mreturn\u001b[0m \u001b[0mself\u001b[0m\u001b[0;34m.\u001b[0m\u001b[0mcopy\u001b[0m\u001b[0;34m(\u001b[0m\u001b[0mparams\u001b[0m\u001b[0;34m)\u001b[0m\u001b[0;34m.\u001b[0m\u001b[0m_fit\u001b[0m\u001b[0;34m(\u001b[0m\u001b[0mdataset\u001b[0m\u001b[0;34m)\u001b[0m\u001b[0;34m\u001b[0m\u001b[0m\n\u001b[1;32m    131\u001b[0m             \u001b[0;32melse\u001b[0m\u001b[0;34m:\u001b[0m\u001b[0;34m\u001b[0m\u001b[0m\n\u001b[0;32m--> 132\u001b[0;31m                 \u001b[0;32mreturn\u001b[0m \u001b[0mself\u001b[0m\u001b[0;34m.\u001b[0m\u001b[0m_fit\u001b[0m\u001b[0;34m(\u001b[0m\u001b[0mdataset\u001b[0m\u001b[0;34m)\u001b[0m\u001b[0;34m\u001b[0m\u001b[0m\n\u001b[0m\u001b[1;32m    133\u001b[0m         \u001b[0;32melse\u001b[0m\u001b[0;34m:\u001b[0m\u001b[0;34m\u001b[0m\u001b[0m\n\u001b[1;32m    134\u001b[0m             raise ValueError(\"Params must be either a param map or a list/tuple of param maps, \"\n",
      "\u001b[0;32m/u/cs451/packages/spark/python/pyspark/ml/wrapper.py\u001b[0m in \u001b[0;36m_fit\u001b[0;34m(self, dataset)\u001b[0m\n\u001b[1;32m    286\u001b[0m \u001b[0;34m\u001b[0m\u001b[0m\n\u001b[1;32m    287\u001b[0m     \u001b[0;32mdef\u001b[0m \u001b[0m_fit\u001b[0m\u001b[0;34m(\u001b[0m\u001b[0mself\u001b[0m\u001b[0;34m,\u001b[0m \u001b[0mdataset\u001b[0m\u001b[0;34m)\u001b[0m\u001b[0;34m:\u001b[0m\u001b[0;34m\u001b[0m\u001b[0m\n\u001b[0;32m--> 288\u001b[0;31m         \u001b[0mjava_model\u001b[0m \u001b[0;34m=\u001b[0m \u001b[0mself\u001b[0m\u001b[0;34m.\u001b[0m\u001b[0m_fit_java\u001b[0m\u001b[0;34m(\u001b[0m\u001b[0mdataset\u001b[0m\u001b[0;34m)\u001b[0m\u001b[0;34m\u001b[0m\u001b[0m\n\u001b[0m\u001b[1;32m    289\u001b[0m         \u001b[0mmodel\u001b[0m \u001b[0;34m=\u001b[0m \u001b[0mself\u001b[0m\u001b[0;34m.\u001b[0m\u001b[0m_create_model\u001b[0m\u001b[0;34m(\u001b[0m\u001b[0mjava_model\u001b[0m\u001b[0;34m)\u001b[0m\u001b[0;34m\u001b[0m\u001b[0m\n\u001b[1;32m    290\u001b[0m         \u001b[0;32mreturn\u001b[0m \u001b[0mself\u001b[0m\u001b[0;34m.\u001b[0m\u001b[0m_copyValues\u001b[0m\u001b[0;34m(\u001b[0m\u001b[0mmodel\u001b[0m\u001b[0;34m)\u001b[0m\u001b[0;34m\u001b[0m\u001b[0m\n",
      "\u001b[0;32m/u/cs451/packages/spark/python/pyspark/ml/wrapper.py\u001b[0m in \u001b[0;36m_fit_java\u001b[0;34m(self, dataset)\u001b[0m\n\u001b[1;32m    283\u001b[0m         \"\"\"\n\u001b[1;32m    284\u001b[0m         \u001b[0mself\u001b[0m\u001b[0;34m.\u001b[0m\u001b[0m_transfer_params_to_java\u001b[0m\u001b[0;34m(\u001b[0m\u001b[0;34m)\u001b[0m\u001b[0;34m\u001b[0m\u001b[0m\n\u001b[0;32m--> 285\u001b[0;31m         \u001b[0;32mreturn\u001b[0m \u001b[0mself\u001b[0m\u001b[0;34m.\u001b[0m\u001b[0m_java_obj\u001b[0m\u001b[0;34m.\u001b[0m\u001b[0mfit\u001b[0m\u001b[0;34m(\u001b[0m\u001b[0mdataset\u001b[0m\u001b[0;34m.\u001b[0m\u001b[0m_jdf\u001b[0m\u001b[0;34m)\u001b[0m\u001b[0;34m\u001b[0m\u001b[0m\n\u001b[0m\u001b[1;32m    286\u001b[0m \u001b[0;34m\u001b[0m\u001b[0m\n\u001b[1;32m    287\u001b[0m     \u001b[0;32mdef\u001b[0m \u001b[0m_fit\u001b[0m\u001b[0;34m(\u001b[0m\u001b[0mself\u001b[0m\u001b[0;34m,\u001b[0m \u001b[0mdataset\u001b[0m\u001b[0;34m)\u001b[0m\u001b[0;34m:\u001b[0m\u001b[0;34m\u001b[0m\u001b[0m\n",
      "\u001b[0;32m/u/cs451/packages/spark/python/lib/py4j-0.10.7-src.zip/py4j/java_gateway.py\u001b[0m in \u001b[0;36m__call__\u001b[0;34m(self, *args)\u001b[0m\n\u001b[1;32m   1255\u001b[0m         \u001b[0manswer\u001b[0m \u001b[0;34m=\u001b[0m \u001b[0mself\u001b[0m\u001b[0;34m.\u001b[0m\u001b[0mgateway_client\u001b[0m\u001b[0;34m.\u001b[0m\u001b[0msend_command\u001b[0m\u001b[0;34m(\u001b[0m\u001b[0mcommand\u001b[0m\u001b[0;34m)\u001b[0m\u001b[0;34m\u001b[0m\u001b[0m\n\u001b[1;32m   1256\u001b[0m         return_value = get_return_value(\n\u001b[0;32m-> 1257\u001b[0;31m             answer, self.gateway_client, self.target_id, self.name)\n\u001b[0m\u001b[1;32m   1258\u001b[0m \u001b[0;34m\u001b[0m\u001b[0m\n\u001b[1;32m   1259\u001b[0m         \u001b[0;32mfor\u001b[0m \u001b[0mtemp_arg\u001b[0m \u001b[0;32min\u001b[0m \u001b[0mtemp_args\u001b[0m\u001b[0;34m:\u001b[0m\u001b[0;34m\u001b[0m\u001b[0m\n",
      "\u001b[0;32m/u/cs451/packages/spark/python/pyspark/sql/utils.py\u001b[0m in \u001b[0;36mdeco\u001b[0;34m(*a, **kw)\u001b[0m\n\u001b[1;32m     61\u001b[0m     \u001b[0;32mdef\u001b[0m \u001b[0mdeco\u001b[0m\u001b[0;34m(\u001b[0m\u001b[0;34m*\u001b[0m\u001b[0ma\u001b[0m\u001b[0;34m,\u001b[0m \u001b[0;34m**\u001b[0m\u001b[0mkw\u001b[0m\u001b[0;34m)\u001b[0m\u001b[0;34m:\u001b[0m\u001b[0;34m\u001b[0m\u001b[0m\n\u001b[1;32m     62\u001b[0m         \u001b[0;32mtry\u001b[0m\u001b[0;34m:\u001b[0m\u001b[0;34m\u001b[0m\u001b[0m\n\u001b[0;32m---> 63\u001b[0;31m             \u001b[0;32mreturn\u001b[0m \u001b[0mf\u001b[0m\u001b[0;34m(\u001b[0m\u001b[0;34m*\u001b[0m\u001b[0ma\u001b[0m\u001b[0;34m,\u001b[0m \u001b[0;34m**\u001b[0m\u001b[0mkw\u001b[0m\u001b[0;34m)\u001b[0m\u001b[0;34m\u001b[0m\u001b[0m\n\u001b[0m\u001b[1;32m     64\u001b[0m         \u001b[0;32mexcept\u001b[0m \u001b[0mpy4j\u001b[0m\u001b[0;34m.\u001b[0m\u001b[0mprotocol\u001b[0m\u001b[0;34m.\u001b[0m\u001b[0mPy4JJavaError\u001b[0m \u001b[0;32mas\u001b[0m \u001b[0me\u001b[0m\u001b[0;34m:\u001b[0m\u001b[0;34m\u001b[0m\u001b[0m\n\u001b[1;32m     65\u001b[0m             \u001b[0ms\u001b[0m \u001b[0;34m=\u001b[0m \u001b[0me\u001b[0m\u001b[0;34m.\u001b[0m\u001b[0mjava_exception\u001b[0m\u001b[0;34m.\u001b[0m\u001b[0mtoString\u001b[0m\u001b[0;34m(\u001b[0m\u001b[0;34m)\u001b[0m\u001b[0;34m\u001b[0m\u001b[0m\n",
      "\u001b[0;32m/u/cs451/packages/spark/python/lib/py4j-0.10.7-src.zip/py4j/protocol.py\u001b[0m in \u001b[0;36mget_return_value\u001b[0;34m(answer, gateway_client, target_id, name)\u001b[0m\n\u001b[1;32m    326\u001b[0m                 raise Py4JJavaError(\n\u001b[1;32m    327\u001b[0m                     \u001b[0;34m\"An error occurred while calling {0}{1}{2}.\\n\"\u001b[0m\u001b[0;34m.\u001b[0m\u001b[0;34m\u001b[0m\u001b[0m\n\u001b[0;32m--> 328\u001b[0;31m                     format(target_id, \".\", name), value)\n\u001b[0m\u001b[1;32m    329\u001b[0m             \u001b[0;32melse\u001b[0m\u001b[0;34m:\u001b[0m\u001b[0;34m\u001b[0m\u001b[0m\n\u001b[1;32m    330\u001b[0m                 raise Py4JError(\n",
      "\u001b[0;31mPy4JJavaError\u001b[0m: An error occurred while calling o2641.fit.\n: org.apache.spark.SparkException: Job aborted due to stage failure: Task 1 in stage 712.0 failed 1 times, most recent failure: Lost task 1.0 in stage 712.0 (TID 3833, localhost, executor driver): java.lang.ArrayIndexOutOfBoundsException\n\tat java.lang.System.arraycopy(Native Method)\n\tat org.apache.spark.ml.ann.DataStacker$$anonfun$5$$anonfun$apply$3$$anonfun$apply$4.apply(Layer.scala:665)\n\tat org.apache.spark.ml.ann.DataStacker$$anonfun$5$$anonfun$apply$3$$anonfun$apply$4.apply(Layer.scala:664)\n\tat scala.collection.immutable.List.foreach(List.scala:381)\n\tat org.apache.spark.ml.ann.DataStacker$$anonfun$5$$anonfun$apply$3.apply(Layer.scala:664)\n\tat org.apache.spark.ml.ann.DataStacker$$anonfun$5$$anonfun$apply$3.apply(Layer.scala:660)\n\tat scala.collection.Iterator$$anon$11.next(Iterator.scala:409)\n\tat scala.collection.Iterator$$anon$11.next(Iterator.scala:409)\n\tat org.apache.spark.storage.memory.MemoryStore.putIteratorAsValues(MemoryStore.scala:217)\n\tat org.apache.spark.storage.BlockManager$$anonfun$doPutIterator$1.apply(BlockManager.scala:1092)\n\tat org.apache.spark.storage.BlockManager$$anonfun$doPutIterator$1.apply(BlockManager.scala:1083)\n\tat org.apache.spark.storage.BlockManager.doPut(BlockManager.scala:1018)\n\tat org.apache.spark.storage.BlockManager.doPutIterator(BlockManager.scala:1083)\n\tat org.apache.spark.storage.BlockManager.getOrElseUpdate(BlockManager.scala:809)\n\tat org.apache.spark.rdd.RDD.getOrCompute(RDD.scala:335)\n\tat org.apache.spark.rdd.RDD.iterator(RDD.scala:286)\n\tat org.apache.spark.scheduler.ResultTask.runTask(ResultTask.scala:87)\n\tat org.apache.spark.scheduler.Task.run(Task.scala:109)\n\tat org.apache.spark.executor.Executor$TaskRunner.run(Executor.scala:345)\n\tat java.util.concurrent.ThreadPoolExecutor.runWorker(ThreadPoolExecutor.java:1149)\n\tat java.util.concurrent.ThreadPoolExecutor$Worker.run(ThreadPoolExecutor.java:624)\n\tat java.lang.Thread.run(Thread.java:748)\n\nDriver stacktrace:\n\tat org.apache.spark.scheduler.DAGScheduler.org$apache$spark$scheduler$DAGScheduler$$failJobAndIndependentStages(DAGScheduler.scala:1602)\n\tat org.apache.spark.scheduler.DAGScheduler$$anonfun$abortStage$1.apply(DAGScheduler.scala:1590)\n\tat org.apache.spark.scheduler.DAGScheduler$$anonfun$abortStage$1.apply(DAGScheduler.scala:1589)\n\tat scala.collection.mutable.ResizableArray$class.foreach(ResizableArray.scala:59)\n\tat scala.collection.mutable.ArrayBuffer.foreach(ArrayBuffer.scala:48)\n\tat org.apache.spark.scheduler.DAGScheduler.abortStage(DAGScheduler.scala:1589)\n\tat org.apache.spark.scheduler.DAGScheduler$$anonfun$handleTaskSetFailed$1.apply(DAGScheduler.scala:831)\n\tat org.apache.spark.scheduler.DAGScheduler$$anonfun$handleTaskSetFailed$1.apply(DAGScheduler.scala:831)\n\tat scala.Option.foreach(Option.scala:257)\n\tat org.apache.spark.scheduler.DAGScheduler.handleTaskSetFailed(DAGScheduler.scala:831)\n\tat org.apache.spark.scheduler.DAGSchedulerEventProcessLoop.doOnReceive(DAGScheduler.scala:1823)\n\tat org.apache.spark.scheduler.DAGSchedulerEventProcessLoop.onReceive(DAGScheduler.scala:1772)\n\tat org.apache.spark.scheduler.DAGSchedulerEventProcessLoop.onReceive(DAGScheduler.scala:1761)\n\tat org.apache.spark.util.EventLoop$$anon$1.run(EventLoop.scala:48)\n\tat org.apache.spark.scheduler.DAGScheduler.runJob(DAGScheduler.scala:642)\n\tat org.apache.spark.SparkContext.runJob(SparkContext.scala:2034)\n\tat org.apache.spark.SparkContext.runJob(SparkContext.scala:2055)\n\tat org.apache.spark.SparkContext.runJob(SparkContext.scala:2074)\n\tat org.apache.spark.SparkContext.runJob(SparkContext.scala:2099)\n\tat org.apache.spark.rdd.RDD.count(RDD.scala:1162)\n\tat org.apache.spark.mllib.optimization.LBFGS$.runLBFGS(LBFGS.scala:195)\n\tat org.apache.spark.mllib.optimization.LBFGS.optimize(LBFGS.scala:142)\n\tat org.apache.spark.ml.ann.FeedForwardTrainer.train(Layer.scala:854)\n\tat org.apache.spark.ml.classification.MultilayerPerceptronClassifier.train(MultilayerPerceptronClassifier.scala:266)\n\tat org.apache.spark.ml.classification.MultilayerPerceptronClassifier.train(MultilayerPerceptronClassifier.scala:143)\n\tat org.apache.spark.ml.Predictor.fit(Predictor.scala:118)\n\tat sun.reflect.NativeMethodAccessorImpl.invoke0(Native Method)\n\tat sun.reflect.NativeMethodAccessorImpl.invoke(NativeMethodAccessorImpl.java:62)\n\tat sun.reflect.DelegatingMethodAccessorImpl.invoke(DelegatingMethodAccessorImpl.java:43)\n\tat java.lang.reflect.Method.invoke(Method.java:498)\n\tat py4j.reflection.MethodInvoker.invoke(MethodInvoker.java:244)\n\tat py4j.reflection.ReflectionEngine.invoke(ReflectionEngine.java:357)\n\tat py4j.Gateway.invoke(Gateway.java:282)\n\tat py4j.commands.AbstractCommand.invokeMethod(AbstractCommand.java:132)\n\tat py4j.commands.CallCommand.execute(CallCommand.java:79)\n\tat py4j.GatewayConnection.run(GatewayConnection.java:238)\n\tat java.lang.Thread.run(Thread.java:748)\nCaused by: java.lang.ArrayIndexOutOfBoundsException\n\tat java.lang.System.arraycopy(Native Method)\n\tat org.apache.spark.ml.ann.DataStacker$$anonfun$5$$anonfun$apply$3$$anonfun$apply$4.apply(Layer.scala:665)\n\tat org.apache.spark.ml.ann.DataStacker$$anonfun$5$$anonfun$apply$3$$anonfun$apply$4.apply(Layer.scala:664)\n\tat scala.collection.immutable.List.foreach(List.scala:381)\n\tat org.apache.spark.ml.ann.DataStacker$$anonfun$5$$anonfun$apply$3.apply(Layer.scala:664)\n\tat org.apache.spark.ml.ann.DataStacker$$anonfun$5$$anonfun$apply$3.apply(Layer.scala:660)\n\tat scala.collection.Iterator$$anon$11.next(Iterator.scala:409)\n\tat scala.collection.Iterator$$anon$11.next(Iterator.scala:409)\n\tat org.apache.spark.storage.memory.MemoryStore.putIteratorAsValues(MemoryStore.scala:217)\n\tat org.apache.spark.storage.BlockManager$$anonfun$doPutIterator$1.apply(BlockManager.scala:1092)\n\tat org.apache.spark.storage.BlockManager$$anonfun$doPutIterator$1.apply(BlockManager.scala:1083)\n\tat org.apache.spark.storage.BlockManager.doPut(BlockManager.scala:1018)\n\tat org.apache.spark.storage.BlockManager.doPutIterator(BlockManager.scala:1083)\n\tat org.apache.spark.storage.BlockManager.getOrElseUpdate(BlockManager.scala:809)\n\tat org.apache.spark.rdd.RDD.getOrCompute(RDD.scala:335)\n\tat org.apache.spark.rdd.RDD.iterator(RDD.scala:286)\n\tat org.apache.spark.scheduler.ResultTask.runTask(ResultTask.scala:87)\n\tat org.apache.spark.scheduler.Task.run(Task.scala:109)\n\tat org.apache.spark.executor.Executor$TaskRunner.run(Executor.scala:345)\n\tat java.util.concurrent.ThreadPoolExecutor.runWorker(ThreadPoolExecutor.java:1149)\n\tat java.util.concurrent.ThreadPoolExecutor$Worker.run(ThreadPoolExecutor.java:624)\n\t... 1 more\n"
     ]
    }
   ],
   "source": [
    "# create the trainer and set its parameters\n",
    "trainer = MultilayerPerceptronClassifier(maxIter=100, layers=layers, blockSize=128, seed=1234, labelCol='rain_drizzle')\n",
    "\n",
    "# train the model\n",
    "model = trainer.fit(training_data)\n"
   ]
  },
  {
   "cell_type": "code",
   "execution_count": null,
   "metadata": {},
   "outputs": [],
   "source": [
    "pred_train = model.transform(training_data)\n",
    "predictions = model.transform(test_data)"
   ]
  },
  {
   "cell_type": "code",
   "execution_count": null,
   "metadata": {},
   "outputs": [],
   "source": [
    "pred_train = model.transform(training_data)\n",
    "from pyspark.ml.evaluation import BinaryClassificationEvaluator,MulticlassClassificationEvaluator\n",
    "# Evaluate model\n",
    "# evaluator = BinaryClassificationEvaluator(labelCol='rain_drizzle')\n",
    "# print(\"Area under ROC Curve-Training Data\",evaluator.evaluate(pred_train))\n",
    "\n",
    "evaluator = BinaryClassificationEvaluator(labelCol='rain_drizzle',metricName=\"areaUnderPR\")\n",
    "print(\"Area under PR Curve-Training Data\",evaluator.evaluate(pred_train))\n",
    "\n",
    "evaluator2=MulticlassClassificationEvaluator(labelCol='rain_drizzle',metricName=\"f1\")\n",
    "print(\"F1 Score-Training Data\",evaluator2.evaluate(pred_train))\n",
    "\n",
    "\n",
    "evaluator3=MulticlassClassificationEvaluator(labelCol='rain_drizzle',metricName=\"accuracy\")\n",
    "print(\"Accuracy Score-Training Data\",evaluator3.evaluate(pred_train))"
   ]
  },
  {
   "cell_type": "code",
   "execution_count": null,
   "metadata": {},
   "outputs": [],
   "source": [
    "from pyspark.ml.evaluation import BinaryClassificationEvaluator,MulticlassClassificationEvaluator\n",
    "# Evaluate model\n",
    "# evaluator = BinaryClassificationEvaluator(labelCol='rain_drizzle')\n",
    "# print(\"Area under ROC Curve-Test Data\",evaluator.evaluate(predictions))\n",
    "\n",
    "evaluator = BinaryClassificationEvaluator(labelCol='rain_drizzle',metricName=\"areaUnderPR\")\n",
    "print(\"Area under PR Curve-Test Data\",evaluator.evaluate(predictions))\n",
    "\n",
    "evaluator2=MulticlassClassificationEvaluator(labelCol='rain_drizzle',metricName=\"f1\")\n",
    "print(\"F1 Score-Test Data\",evaluator2.evaluate(predictions))\n",
    "\n",
    "\n",
    "evaluator3=MulticlassClassificationEvaluator(labelCol='rain_drizzle',metricName=\"accuracy\")\n",
    "print(\"Accuracy Score-Test Data\",evaluator3.evaluate(predictions))"
   ]
  },
  {
   "cell_type": "markdown",
   "metadata": {},
   "source": [
    "## Linear SVM"
   ]
  },
  {
   "cell_type": "code",
   "execution_count": 24,
   "metadata": {},
   "outputs": [
    {
     "name": "stdout",
     "output_type": "stream",
     "text": [
      "Coefficients: [-0.0005318301334763921,0.0,9.878003824479624e-06,0.0007167343983643146,1.5011599821789247e-05,-4.519301997590261e-06,0.002168636339084674,0.002196523648691568]\n",
      "Intercept: -2.50586274023e-08\n"
     ]
    }
   ],
   "source": [
    "from pyspark.ml.classification import LinearSVC\n",
    "from pyspark.ml.evaluation import MulticlassClassificationEvaluator\n",
    "\n",
    "# # Load training data\n",
    "# training = spark.read.format(\"libsvm\").load(\"data/mllib/sample_libsvm_data.txt\")\n",
    "\n",
    "lsvc = LinearSVC(maxIter=10, regParam=0.1,labelCol='rain_drizzle')\n",
    "\n",
    "# Fit the model\n",
    "lsvcModel = lsvc.fit(training_data)\n",
    "\n",
    "# Print the coefficients and intercept for linear SVC\n",
    "print(\"Coefficients: \" + str(lsvcModel.coefficients))\n",
    "print(\"Intercept: \" + str(lsvcModel.intercept))"
   ]
  },
  {
   "cell_type": "code",
   "execution_count": 25,
   "metadata": {},
   "outputs": [
    {
     "name": "stdout",
     "output_type": "stream",
     "text": [
      "('Area under PR Curve-Training Data', 0.4708411223241299)\n",
      "('F1 Score-Training Data', 0.5347863930467649)\n",
      "('Accuracy Score-Training Data', 0.6678014352648123)\n"
     ]
    }
   ],
   "source": [
    "pred_train = lsvcModel.transform(training_data)\n",
    "from pyspark.ml.evaluation import BinaryClassificationEvaluator,MulticlassClassificationEvaluator\n",
    "# # Evaluate model\n",
    "# evaluator = BinaryClassificationEvaluator(labelCol='rain_drizzle')\n",
    "# print(\"Area under ROC Curve-Training Data\",evaluator.evaluate(pred_train))\n",
    "\n",
    "evaluator = BinaryClassificationEvaluator(labelCol='rain_drizzle',metricName=\"areaUnderPR\")\n",
    "print(\"Area under PR Curve-Training Data\",evaluator.evaluate(pred_train))\n",
    "\n",
    "evaluator2=MulticlassClassificationEvaluator(labelCol='rain_drizzle',metricName=\"f1\")\n",
    "print(\"F1 Score-Training Data\",evaluator2.evaluate(pred_train))\n",
    "\n",
    "\n",
    "evaluator3=MulticlassClassificationEvaluator(labelCol='rain_drizzle',metricName=\"accuracy\")\n",
    "print(\"Accuracy Score-Training Data\",evaluator3.evaluate(pred_train))"
   ]
  },
  {
   "cell_type": "code",
   "execution_count": 26,
   "metadata": {},
   "outputs": [
    {
     "name": "stdout",
     "output_type": "stream",
     "text": [
      "('Area under PR Curve-Test Data', 0.4740357456813543)\n",
      "('F1 Score-Test Data', 0.5337462342792507)\n",
      "('Accuracy Score-Test Data', 0.6669892104258225)\n"
     ]
    }
   ],
   "source": [
    "predictions = lsvcModel.transform(test_data)\n",
    "\n",
    "from pyspark.ml.evaluation import BinaryClassificationEvaluator,MulticlassClassificationEvaluator\n",
    "# # Evaluate model\n",
    "# evaluator = BinaryClassificationEvaluator(labelCol='rain_drizzle')\n",
    "# print(\"Area under ROC Curve-Test Data\",evaluator.evaluate(predictions))\n",
    "\n",
    "evaluator = BinaryClassificationEvaluator(labelCol='rain_drizzle',metricName=\"areaUnderPR\")\n",
    "print(\"Area under PR Curve-Test Data\",evaluator.evaluate(predictions))\n",
    "\n",
    "evaluator2=MulticlassClassificationEvaluator(labelCol='rain_drizzle',metricName=\"f1\")\n",
    "print(\"F1 Score-Test Data\",evaluator2.evaluate(predictions))\n",
    "\n",
    "\n",
    "evaluator3=MulticlassClassificationEvaluator(labelCol='rain_drizzle',metricName=\"accuracy\")\n",
    "print(\"Accuracy Score-Test Data\",evaluator3.evaluate(predictions))"
   ]
  },
  {
   "cell_type": "markdown",
   "metadata": {},
   "source": [
    "## Decision Tree"
   ]
  },
  {
   "cell_type": "code",
   "execution_count": 27,
   "metadata": {},
   "outputs": [],
   "source": [
    "from pyspark.ml.classification import DecisionTreeClassifier\n",
    "dt = DecisionTreeClassifier(featuresCol='features',labelCol='rain_drizzle', maxDepth=3)"
   ]
  },
  {
   "cell_type": "code",
   "execution_count": 28,
   "metadata": {},
   "outputs": [],
   "source": [
    "dtModel=dt.fit(training_data)\n"
   ]
  },
  {
   "cell_type": "code",
   "execution_count": 29,
   "metadata": {},
   "outputs": [
    {
     "name": "stdout",
     "output_type": "stream",
     "text": [
      "('numNodes = ', 15)\n",
      "('depth = ', 3)\n"
     ]
    }
   ],
   "source": [
    "print(\"numNodes = \", dtModel.numNodes)\n",
    "print(\"depth = \", dtModel.depth)"
   ]
  },
  {
   "cell_type": "code",
   "execution_count": 30,
   "metadata": {},
   "outputs": [],
   "source": [
    "# display(dtModel)"
   ]
  },
  {
   "cell_type": "code",
   "execution_count": 31,
   "metadata": {},
   "outputs": [],
   "source": [
    "predictions = dtModel.transform(test_data)\n"
   ]
  },
  {
   "cell_type": "code",
   "execution_count": 32,
   "metadata": {},
   "outputs": [],
   "source": [
    "pred_train=dtModel.transform(training_data)"
   ]
  },
  {
   "cell_type": "code",
   "execution_count": 33,
   "metadata": {},
   "outputs": [
    {
     "name": "stdout",
     "output_type": "stream",
     "text": [
      "('Area under PR Curve-Training Data', 0.6163294835755881)\n",
      "('F1 Score-Training Data', 0.7011086960654244)\n",
      "('Accuracy Score-Training Data', 0.7340198737268899)\n"
     ]
    }
   ],
   "source": [
    "from pyspark.ml.evaluation import BinaryClassificationEvaluator,MulticlassClassificationEvaluator\n",
    "# Evaluate model\n",
    "# evaluator = BinaryClassificationEvaluator(labelCol='rain_drizzle')\n",
    "# print(\"Area under ROC Curve-Training Data\",evaluator.evaluate(pred_train))\n",
    "\n",
    "evaluator = BinaryClassificationEvaluator(labelCol='rain_drizzle',metricName=\"areaUnderPR\")\n",
    "print(\"Area under PR Curve-Training Data\",evaluator.evaluate(pred_train))\n",
    "\n",
    "evaluator2=MulticlassClassificationEvaluator(labelCol='rain_drizzle',metricName=\"f1\")\n",
    "print(\"F1 Score-Training Data\",evaluator2.evaluate(pred_train))\n",
    "\n",
    "\n",
    "evaluator3=MulticlassClassificationEvaluator(labelCol='rain_drizzle',metricName=\"accuracy\")\n",
    "print(\"Accuracy Score-Training Data\",evaluator3.evaluate(pred_train))"
   ]
  },
  {
   "cell_type": "code",
   "execution_count": 34,
   "metadata": {},
   "outputs": [
    {
     "name": "stdout",
     "output_type": "stream",
     "text": [
      "('Area under PR Curve-Test Data', 0.6163714020196873)\n",
      "('F1 Score-Test Data', 0.7004797976811595)\n",
      "('Accuracy Score-Test Data', 0.733124704694468)\n"
     ]
    }
   ],
   "source": [
    "from pyspark.ml.evaluation import BinaryClassificationEvaluator,MulticlassClassificationEvaluator\n",
    "# Evaluate model\n",
    "# evaluator = BinaryClassificationEvaluator(labelCol='rain_drizzle')\n",
    "# print(\"Area under ROC Curve-Test Data\",evaluator.evaluate(predictions))\n",
    "\n",
    "evaluator = BinaryClassificationEvaluator(labelCol='rain_drizzle',metricName=\"areaUnderPR\")\n",
    "print(\"Area under PR Curve-Test Data\",evaluator.evaluate(predictions))\n",
    "\n",
    "evaluator2=MulticlassClassificationEvaluator(labelCol='rain_drizzle',metricName=\"f1\")\n",
    "print(\"F1 Score-Test Data\",evaluator2.evaluate(predictions))\n",
    "\n",
    "\n",
    "evaluator3=MulticlassClassificationEvaluator(labelCol='rain_drizzle',metricName=\"accuracy\")\n",
    "print(\"Accuracy Score-Test Data\",evaluator3.evaluate(predictions))"
   ]
  },
  {
   "cell_type": "markdown",
   "metadata": {},
   "source": [
    "## Random Forest"
   ]
  },
  {
   "cell_type": "code",
   "execution_count": 35,
   "metadata": {},
   "outputs": [],
   "source": [
    "from pyspark.ml.classification import RandomForestClassifier"
   ]
  },
  {
   "cell_type": "code",
   "execution_count": 36,
   "metadata": {},
   "outputs": [],
   "source": [
    "rf = RandomForestClassifier(featuresCol='features',labelCol='rain_drizzle')"
   ]
  },
  {
   "cell_type": "code",
   "execution_count": 37,
   "metadata": {},
   "outputs": [],
   "source": [
    "rfModel = rf.fit(training_data)\n",
    "predictions = rfModel.transform(test_data)\n",
    "pred_train=dtModel.transform(training_data)"
   ]
  },
  {
   "cell_type": "code",
   "execution_count": 38,
   "metadata": {},
   "outputs": [
    {
     "name": "stdout",
     "output_type": "stream",
     "text": [
      "('Area under PR Curve-Training Data', 0.6163294835755881)\n",
      "('F1 Score-Training Data', 0.7011086960654244)\n",
      "('Accuracy Score-Training Data', 0.7340198737268899)\n"
     ]
    }
   ],
   "source": [
    "from pyspark.ml.evaluation import BinaryClassificationEvaluator,MulticlassClassificationEvaluator\n",
    "# Evaluate model\n",
    "# evaluator = BinaryClassificationEvaluator(labelCol='rain_drizzle')\n",
    "# print(\"Area under ROC Curve-Training Data\",evaluator.evaluate(pred_train))\n",
    "\n",
    "evaluator = BinaryClassificationEvaluator(labelCol='rain_drizzle',metricName=\"areaUnderPR\")\n",
    "print(\"Area under PR Curve-Training Data\",evaluator.evaluate(pred_train))\n",
    "\n",
    "evaluator2=MulticlassClassificationEvaluator(labelCol='rain_drizzle',metricName=\"f1\")\n",
    "print(\"F1 Score-Training Data\",evaluator2.evaluate(pred_train))\n",
    "\n",
    "\n",
    "evaluator3=MulticlassClassificationEvaluator(labelCol='rain_drizzle',metricName=\"accuracy\")\n",
    "print(\"Accuracy Score-Training Data\",evaluator3.evaluate(pred_train))"
   ]
  },
  {
   "cell_type": "code",
   "execution_count": 39,
   "metadata": {},
   "outputs": [
    {
     "name": "stdout",
     "output_type": "stream",
     "text": [
      "('Area under PR Curve-Test Data', 0.7786483506856033)\n",
      "('F1 Score-Test Data', 0.7984777627735128)\n",
      "('Accuracy Score-Test Data', 0.805127474903075)\n"
     ]
    }
   ],
   "source": [
    "from pyspark.ml.evaluation import BinaryClassificationEvaluator,MulticlassClassificationEvaluator\n",
    "# Evaluate model\n",
    "# evaluator = BinaryClassificationEvaluator(labelCol='rain_drizzle')\n",
    "# print(\"Area under ROC Curve-Test Data\",evaluator.evaluate(predictions))\n",
    "\n",
    "evaluator = BinaryClassificationEvaluator(labelCol='rain_drizzle',metricName=\"areaUnderPR\")\n",
    "print(\"Area under PR Curve-Test Data\",evaluator.evaluate(predictions))\n",
    "\n",
    "evaluator2=MulticlassClassificationEvaluator(labelCol='rain_drizzle',metricName=\"f1\")\n",
    "print(\"F1 Score-Test Data\",evaluator2.evaluate(predictions))\n",
    "\n",
    "\n",
    "evaluator3=MulticlassClassificationEvaluator(labelCol='rain_drizzle',metricName=\"accuracy\")\n",
    "print(\"Accuracy Score-Test Data\",evaluator3.evaluate(predictions))"
   ]
  },
  {
   "cell_type": "markdown",
   "metadata": {},
   "source": [
    "## Gradient Boost Classifier"
   ]
  },
  {
   "cell_type": "code",
   "execution_count": 40,
   "metadata": {},
   "outputs": [],
   "source": [
    "from pyspark.ml.classification import GBTClassifier\n",
    "gbt = GBTClassifier(featuresCol='features',labelCol='rain_drizzle',maxIter=10)\n",
    "gbtModel = gbt.fit(training_data)\n",
    "predictions = gbtModel.transform(test_data)\n",
    "pred_train=dtModel.transform(training_data)"
   ]
  },
  {
   "cell_type": "code",
   "execution_count": 41,
   "metadata": {},
   "outputs": [
    {
     "name": "stdout",
     "output_type": "stream",
     "text": [
      "('Area under PR Curve-Training Data', 0.6163294835755881)\n",
      "('F1 Score-Training Data', 0.7011086960654244)\n",
      "('Accuracy Score-Training Data', 0.7340198737268899)\n"
     ]
    }
   ],
   "source": [
    "from pyspark.ml.evaluation import BinaryClassificationEvaluator,MulticlassClassificationEvaluator\n",
    "# Evaluate model\n",
    "# evaluator = BinaryClassificationEvaluator(labelCol='rain_drizzle')\n",
    "# print(\"Area under ROC Curve-Training Data\",evaluator.evaluate(pred_train))\n",
    "\n",
    "evaluator = BinaryClassificationEvaluator(labelCol='rain_drizzle',metricName=\"areaUnderPR\")\n",
    "print(\"Area under PR Curve-Training Data\",evaluator.evaluate(pred_train))\n",
    "\n",
    "evaluator2=MulticlassClassificationEvaluator(labelCol='rain_drizzle',metricName=\"f1\")\n",
    "print(\"F1 Score-Training Data\",evaluator2.evaluate(pred_train))\n",
    "\n",
    "\n",
    "evaluator3=MulticlassClassificationEvaluator(labelCol='rain_drizzle',metricName=\"accuracy\")\n",
    "print(\"Accuracy Score-Training Data\",evaluator3.evaluate(pred_train))"
   ]
  },
  {
   "cell_type": "code",
   "execution_count": 49,
   "metadata": {},
   "outputs": [
    {
     "name": "stdout",
     "output_type": "stream",
     "text": [
      "('Area under PR Curve-Test Data', 0.8776048037335591)\n",
      "('F1 Score-Test Data', 0.9366021195731454)\n",
      "('Accuracy Score-Test Data', 0.9363984699128161)\n"
     ]
    }
   ],
   "source": [
    "from pyspark.ml.evaluation import BinaryClassificationEvaluator,MulticlassClassificationEvaluator\n",
    "# Evaluate model\n",
    "# evaluator = BinaryClassificationEvaluator(labelCol='rain_drizzle')\n",
    "# print(\"Area under ROC Curve-Test Data\",evaluator.evaluate(predictions))\n",
    "\n",
    "evaluator = BinaryClassificationEvaluator(labelCol='rain_drizzle',metricName=\"areaUnderPR\")\n",
    "print(\"Area under PR Curve-Test Data\",evaluator.evaluate(predictions))\n",
    "\n",
    "evaluator2=MulticlassClassificationEvaluator(labelCol='rain_drizzle',metricName=\"f1\")\n",
    "print(\"F1 Score-Test Data\",evaluator2.evaluate(predictions))\n",
    "\n",
    "\n",
    "evaluator3=MulticlassClassificationEvaluator(labelCol='rain_drizzle',metricName=\"accuracy\")\n",
    "print(\"Accuracy Score-Test Data\",evaluator3.evaluate(predictions))"
   ]
  },
  {
   "cell_type": "code",
   "execution_count": 72,
   "metadata": {},
   "outputs": [],
   "source": [
    "# Create ParamGrid for Cross Validation\n",
    "from pyspark.ml.tuning import ParamGridBuilder, CrossValidator\n",
    "paramGrid = (ParamGridBuilder()\n",
    "             .addGrid(dt.maxDepth, [10])\n",
    "             .addGrid(dt.maxBins, [ 40])\n",
    "             .build())\n",
    "\n",
    "# Create 5-fold CrossValidator\n",
    "cv = CrossValidator(estimator=dt,estimatorParamMaps=paramGrid, evaluator=evaluator2, numFolds=5)\n",
    "\n",
    "# Run cross validations\n",
    "cvModel = cv.fit(training_data)\n",
    "# Takes ~5 minutes\n",
    "\n",
    "# Use test set to measure the accuracy of our model on new data\n",
    "predictions = cvModel.transform(test_data)\n",
    "pred_train=cvModel.transform(training_data)\n",
    "\n"
   ]
  },
  {
   "cell_type": "code",
   "execution_count": 73,
   "metadata": {},
   "outputs": [],
   "source": [
    "# cvModel.getEstimatorParamMaps()"
   ]
  },
  {
   "cell_type": "code",
   "execution_count": 74,
   "metadata": {},
   "outputs": [
    {
     "name": "stdout",
     "output_type": "stream",
     "text": [
      "('Area under PR Curve-Training Data', 0.5579316538324745)\n",
      "('F1 Score-Training Data', 0.8496660031497381)\n",
      "('Accuracy Score-Training Data', 0.8534220413399896)\n",
      "('Area under PR Curve-Test Data', 0.557169748873696)\n",
      "('F1 Score-Test Data', 0.849816412316666)\n",
      "('Accuracy Score-Test Data', 0.8535623119974114)\n"
     ]
    }
   ],
   "source": [
    "# Evaluate model for all 10 year data\n",
    "\n",
    "evaluator = BinaryClassificationEvaluator(labelCol='rain_drizzle',metricName=\"areaUnderPR\")\n",
    "print(\"Area under PR Curve-Training Data\",evaluator.evaluate(pred_train))\n",
    "\n",
    "evaluator2=MulticlassClassificationEvaluator(labelCol='rain_drizzle',metricName=\"f1\")\n",
    "print(\"F1 Score-Training Data\",evaluator2.evaluate(pred_train))\n",
    "\n",
    "\n",
    "evaluator3=MulticlassClassificationEvaluator(labelCol='rain_drizzle',metricName=\"accuracy\")\n",
    "print(\"Accuracy Score-Training Data\",evaluator3.evaluate(pred_train))\n",
    "\n",
    "\n",
    "evaluator = BinaryClassificationEvaluator(labelCol='rain_drizzle',metricName=\"areaUnderPR\")\n",
    "print(\"Area under PR Curve-Test Data\",evaluator.evaluate(predictions))\n",
    "evaluator2=MulticlassClassificationEvaluator(labelCol='rain_drizzle',metricName=\"f1\")\n",
    "print(\"F1 Score-Test Data\",evaluator2.evaluate(predictions))\n",
    "evaluator3=MulticlassClassificationEvaluator(labelCol='rain_drizzle',metricName=\"accuracy\")\n",
    "print(\"Accuracy Score-Test Data\",evaluator3.evaluate(predictions))"
   ]
  },
  {
   "cell_type": "code",
   "execution_count": 77,
   "metadata": {},
   "outputs": [
    {
     "name": "stdout",
     "output_type": "stream",
     "text": [
      "('numNodes = ', 1581)\n",
      "('depth = ', 10)\n"
     ]
    }
   ],
   "source": [
    "print(\"numNodes = \", cvModel.bestModel.numNodes)\n",
    "print(\"depth = \", cvModel.bestModel.depth)"
   ]
  },
  {
   "cell_type": "markdown",
   "metadata": {},
   "source": [
    "### Decision Tree Cross Validation"
   ]
  },
  {
   "cell_type": "code",
   "execution_count": 78,
   "metadata": {},
   "outputs": [],
   "source": [
    "# Create ParamGrid for Cross Validation\n",
    "from pyspark.ml.tuning import ParamGridBuilder, CrossValidator\n",
    "paramGrid = (ParamGridBuilder()\n",
    "             .addGrid(dt.maxDepth, [10])\n",
    "             .addGrid(dt.maxBins, [ 40])\n",
    "             .build())\n",
    "\n",
    "# Create 5-fold CrossValidator\n",
    "cv = CrossValidator(estimator=dt,estimatorParamMaps=paramGrid, evaluator=evaluator, numFolds=5)\n",
    "\n",
    "# Run cross validations\n",
    "cvModel = cv.fit(training_data)\n",
    "# Takes ~5 minutes\n",
    "\n",
    "# Use test set to measure the accuracy of our model on new data\n",
    "predictions = cvModel.transform(test_data)\n",
    "pred_train=cvModel.transform(training_data)"
   ]
  },
  {
   "cell_type": "code",
   "execution_count": 80,
   "metadata": {},
   "outputs": [
    {
     "name": "stdout",
     "output_type": "stream",
     "text": [
      "('Area under PR Curve-Training Data', 0.5579316538324745)\n",
      "('F1 Score-Training Data', 0.8496660031497381)\n",
      "('Accuracy Score-Training Data', 0.8534220413399896)\n",
      "('Area under PR Curve-Test Data', 0.557169748873696)\n",
      "('F1 Score-Test Data', 0.849816412316666)\n",
      "('Accuracy Score-Test Data', 0.8535623119974114)\n"
     ]
    }
   ],
   "source": [
    "# Evaluate model for Feb Data\n",
    "\n",
    "evaluator = BinaryClassificationEvaluator(labelCol='rain_drizzle',metricName=\"areaUnderPR\")\n",
    "print(\"Area under PR Curve-Training Data\",evaluator.evaluate(pred_train))\n",
    "\n",
    "evaluator2=MulticlassClassificationEvaluator(labelCol='rain_drizzle',metricName=\"f1\")\n",
    "print(\"F1 Score-Training Data\",evaluator2.evaluate(pred_train))\n",
    "\n",
    "\n",
    "evaluator3=MulticlassClassificationEvaluator(labelCol='rain_drizzle',metricName=\"accuracy\")\n",
    "print(\"Accuracy Score-Training Data\",evaluator3.evaluate(pred_train))\n",
    "\n",
    "\n",
    "evaluator = BinaryClassificationEvaluator(labelCol='rain_drizzle',metricName=\"areaUnderPR\")\n",
    "print(\"Area under PR Curve-Test Data\",evaluator.evaluate(predictions))\n",
    "evaluator2=MulticlassClassificationEvaluator(labelCol='rain_drizzle',metricName=\"f1\")\n",
    "print(\"F1 Score-Test Data\",evaluator2.evaluate(predictions))\n",
    "evaluator3=MulticlassClassificationEvaluator(labelCol='rain_drizzle',metricName=\"accuracy\")\n",
    "print(\"Accuracy Score-Test Data\",evaluator3.evaluate(predictions))"
   ]
  },
  {
   "cell_type": "markdown",
   "metadata": {},
   "source": [
    "### GBT Cross Validation"
   ]
  },
  {
   "cell_type": "code",
   "execution_count": 81,
   "metadata": {},
   "outputs": [],
   "source": [
    "# Create ParamGrid for Cross Validation\n",
    "from pyspark.ml.tuning import ParamGridBuilder, CrossValidator\n",
    "paramGrid = (ParamGridBuilder()\n",
    "             .addGrid(gbt.maxDepth, [10])\n",
    "             .addGrid(gbt.maxBins, [ 60])\n",
    "             .addGrid(gbt.maxIter, [ 20])\n",
    "             .build())\n",
    "\n",
    "# Create 5-fold CrossValidator\n",
    "cv = CrossValidator(estimator=gbt,estimatorParamMaps=paramGrid, evaluator=evaluator, numFolds=5)\n",
    "\n",
    "# Run cross validations\n",
    "cvModel = cv.fit(training_data)\n",
    "# Takes ~5 minutes\n",
    "\n",
    "# Use test set to measure the accuracy of our model on new data\n",
    "predictions = cvModel.transform(test_data)\n",
    "pred_train=cvModel.transform(training_data)"
   ]
  },
  {
   "cell_type": "code",
   "execution_count": 82,
   "metadata": {},
   "outputs": [
    {
     "name": "stdout",
     "output_type": "stream",
     "text": [
      "('Area under PR Curve-Training Data', 0.980990603858618)\n",
      "('F1 Score-Training Data', 0.970092833001535)\n",
      "('Accuracy Score-Training Data', 0.970207578332639)\n",
      "('Area under PR Curve-Test Data', 0.9795413864812147)\n",
      "('F1 Score-Test Data', 0.9695965691528257)\n",
      "('Accuracy Score-Test Data', 0.9697118591933016)\n"
     ]
    }
   ],
   "source": [
    "# Evaluate model for Feb Data\n",
    "\n",
    "evaluator = BinaryClassificationEvaluator(labelCol='rain_drizzle',metricName=\"areaUnderPR\")\n",
    "print(\"Area under PR Curve-Training Data\",evaluator.evaluate(pred_train))\n",
    "\n",
    "evaluator2=MulticlassClassificationEvaluator(labelCol='rain_drizzle',metricName=\"f1\")\n",
    "print(\"F1 Score-Training Data\",evaluator2.evaluate(pred_train))\n",
    "\n",
    "\n",
    "evaluator3=MulticlassClassificationEvaluator(labelCol='rain_drizzle',metricName=\"accuracy\")\n",
    "print(\"Accuracy Score-Training Data\",evaluator3.evaluate(pred_train))\n",
    "\n",
    "\n",
    "evaluator = BinaryClassificationEvaluator(labelCol='rain_drizzle',metricName=\"areaUnderPR\")\n",
    "print(\"Area under PR Curve-Test Data\",evaluator.evaluate(predictions))\n",
    "evaluator2=MulticlassClassificationEvaluator(labelCol='rain_drizzle',metricName=\"f1\")\n",
    "print(\"F1 Score-Test Data\",evaluator2.evaluate(predictions))\n",
    "evaluator3=MulticlassClassificationEvaluator(labelCol='rain_drizzle',metricName=\"accuracy\")\n",
    "print(\"Accuracy Score-Test Data\",evaluator3.evaluate(predictions))"
   ]
  },
  {
   "cell_type": "code",
   "execution_count": null,
   "metadata": {},
   "outputs": [],
   "source": []
  }
 ],
 "metadata": {
  "kernelspec": {
   "display_name": "Python 3",
   "language": "python",
   "name": "python3"
  },
  "language_info": {
   "codemirror_mode": {
    "name": "ipython",
    "version": 2
   },
   "file_extension": ".py",
   "mimetype": "text/x-python",
   "name": "python",
   "nbconvert_exporter": "python",
   "pygments_lexer": "ipython2",
   "version": "2.7.15rc1"
  }
 },
 "nbformat": 4,
 "nbformat_minor": 2
}
